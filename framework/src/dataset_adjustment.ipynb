{
 "cells": [
  {
   "cell_type": "code",
   "execution_count": 1,
   "metadata": {
    "collapsed": true
   },
   "outputs": [],
   "source": [
    "import pandas as pd\n",
    "working_path = \"C:\\\\Users\\\\NileNile\\\\Desktop\\\\REPOSITORY\\\\VICTIMS_OF_FALL_MASTER_THESIS\""
   ]
  },
  {
   "cell_type": "code",
   "execution_count": 5,
   "outputs": [],
   "source": [
    "df_Precipitati_score = pd.read_excel(f\"{working_path}\\\\data\\\\PrecipitatiScore.xlsx\", index_col = None)"
   ],
   "metadata": {
    "collapsed": false,
    "pycharm": {
     "name": "#%%\n"
    }
   }
  },
  {
   "cell_type": "code",
   "execution_count": 6,
   "outputs": [],
   "source": [
    "df_anatomical_parts = df_Precipitati_score.drop([\"Casi\", \"Sesso\", \"Età\", \"Altezza soggetto\", \"Peso\", \"Altezza di precipitazione (m)\", \"mgh\", \"BMI\"], axis = 1)"
   ],
   "metadata": {
    "collapsed": false,
    "pycharm": {
     "name": "#%%\n"
    }
   }
  },
  {
   "cell_type": "code",
   "execution_count": 7,
   "outputs": [],
   "source": [
    "major_area = [\"TESTA\", \"TORACE\", \"ADDOME\", \"SCHELETRO\"]\n",
    "columns = df_anatomical_parts.columns\n",
    "\n",
    "def adjust_numbers(x):\n",
    "    target_major_area = 0\n",
    "    summa = 0\n",
    "    for p in range(1, len(x)):\n",
    "        if columns[p] in major_area:\n",
    "            x[target_major_area] = summa\n",
    "            target_major_area = p\n",
    "            summa = 0\n",
    "        else:\n",
    "            if x[p] > 2:\n",
    "                x[p] = 1\n",
    "            else:\n",
    "                x[p] = 0\n",
    "            summa += x[p]\n",
    "    x[target_major_area] = summa\n",
    "    return x\n",
    "df_anatomical_parts_adjusted = df_anatomical_parts.apply(lambda x: adjust_numbers(x), axis =1)"
   ],
   "metadata": {
    "collapsed": false,
    "pycharm": {
     "name": "#%%\n"
    }
   }
  },
  {
   "cell_type": "code",
   "execution_count": 8,
   "outputs": [],
   "source": [
    "for c in columns:\n",
    "    df_Precipitati_score[c] = df_anatomical_parts_adjusted[c]"
   ],
   "metadata": {
    "collapsed": false,
    "pycharm": {
     "name": "#%%\n"
    }
   }
  },
  {
   "cell_type": "code",
   "execution_count": 10,
   "outputs": [],
   "source": [
    "df_Precipitati_score.to_csv(f\"{working_path}\\\\data\\\\Precipitati_score.csv\")"
   ],
   "metadata": {
    "collapsed": false,
    "pycharm": {
     "name": "#%%\n"
    }
   }
  },
  {
   "cell_type": "code",
   "execution_count": 4,
   "outputs": [],
   "source": [
    "df_victims_of_fall_V1 = pd.read_csv(f\"{working_path}\\\\data\\\\victims_of_fall_V1.csv\", index_col=0)\n",
    "df_Precipitati_score_cvs = pd.read_csv(f\"{working_path}\\\\data\\\\Precipitati_score.csv\", index_col=0)"
   ],
   "metadata": {
    "collapsed": false,
    "pycharm": {
     "name": "#%%\n"
    }
   }
  },
  {
   "cell_type": "code",
   "execution_count": 3,
   "outputs": [
    {
     "data": {
      "text/plain": "     Casi Sesso   Età  Altezza soggetto   Peso        BMI  \\\n0     144     M  56.0             170.0   95.2  32.941176   \n30    299     M  70.0             168.0   97.0  34.367914   \n31    281     F   NaN             168.0    NaN        NaN   \n32    156     F  45.0             169.0  100.8  35.292882   \n33    128     M  59.0             170.0   61.0  21.107266   \n..    ...   ...   ...               ...    ...        ...   \n352   257     M  83.0             162.0    NaN        NaN   \n353    12     M  68.0             163.0   59.0  22.206331   \n354   254     M  68.0             163.0   59.1  22.243969   \n356   178     M  23.0             163.0   73.5  27.663819   \n384     2     M  39.0             184.0   96.9  28.621219   \n\n     Altezza di precipitazione (m)       mgh  TESTA  Neurocranio   ...  \\\n0                                6   5597.76      2             1  ...   \n30                               6   5703.60      0             0  ...   \n31                               6       NaN      3             1  ...   \n32                               6   5927.04      0             0  ...   \n33                               6   3586.80      0             0  ...   \n..                             ...       ...    ...           ...  ...   \n352                             24       NaN      0             0  ...   \n353                             24  13876.80      0             0  ...   \n354                             24  13900.32      0             0  ...   \n356                             24  17287.20      1             1  ...   \n384                             24  22790.88      0             0  ...   \n\n     Milza   Aorta Add   Reni   Mesentere   SCHELETRO  Rachide Cervicale   \\\n0         0           0      0           0          1                   0   \n30        0           1      0           0          1                   0   \n31        0           0      0           0          1                   0   \n32        0           0      0           0          2                   1   \n33        0           0      0           0          1                   0   \n..      ...         ...    ...         ...        ...                 ...   \n352       1           0      0           0          2                   0   \n353       0           0      0           0          2                   0   \n354       0           0      0           0          2                   0   \n356       0           0      1           0          3                   0   \n384       0           0      1           0          1                   0   \n\n     Rachide Toracico   Rachide Lombare   Bacino   Complesso S-C-C   \n0                    0                 0        0                 1  \n30                   0                 0        0                 1  \n31                   0                 0        0                 1  \n32                   1                 0        0                 0  \n33                   0                 0        0                 1  \n..                 ...               ...      ...               ...  \n352                  1                 0        0                 1  \n353                  0                 0        1                 1  \n354                  0                 0        1                 1  \n356                  0                 1        1                 1  \n384                  0                 0        0                 1  \n\n[385 rows x 32 columns]",
      "text/html": "<div>\n<style scoped>\n    .dataframe tbody tr th:only-of-type {\n        vertical-align: middle;\n    }\n\n    .dataframe tbody tr th {\n        vertical-align: top;\n    }\n\n    .dataframe thead th {\n        text-align: right;\n    }\n</style>\n<table border=\"1\" class=\"dataframe\">\n  <thead>\n    <tr style=\"text-align: right;\">\n      <th></th>\n      <th>Casi</th>\n      <th>Sesso</th>\n      <th>Età</th>\n      <th>Altezza soggetto</th>\n      <th>Peso</th>\n      <th>BMI</th>\n      <th>Altezza di precipitazione (m)</th>\n      <th>mgh</th>\n      <th>TESTA</th>\n      <th>Neurocranio</th>\n      <th>...</th>\n      <th>Milza</th>\n      <th>Aorta Add</th>\n      <th>Reni</th>\n      <th>Mesentere</th>\n      <th>SCHELETRO</th>\n      <th>Rachide Cervicale</th>\n      <th>Rachide Toracico</th>\n      <th>Rachide Lombare</th>\n      <th>Bacino</th>\n      <th>Complesso S-C-C</th>\n    </tr>\n  </thead>\n  <tbody>\n    <tr>\n      <th>0</th>\n      <td>144</td>\n      <td>M</td>\n      <td>56.0</td>\n      <td>170.0</td>\n      <td>95.2</td>\n      <td>32.941176</td>\n      <td>6</td>\n      <td>5597.76</td>\n      <td>2</td>\n      <td>1</td>\n      <td>...</td>\n      <td>0</td>\n      <td>0</td>\n      <td>0</td>\n      <td>0</td>\n      <td>1</td>\n      <td>0</td>\n      <td>0</td>\n      <td>0</td>\n      <td>0</td>\n      <td>1</td>\n    </tr>\n    <tr>\n      <th>30</th>\n      <td>299</td>\n      <td>M</td>\n      <td>70.0</td>\n      <td>168.0</td>\n      <td>97.0</td>\n      <td>34.367914</td>\n      <td>6</td>\n      <td>5703.60</td>\n      <td>0</td>\n      <td>0</td>\n      <td>...</td>\n      <td>0</td>\n      <td>1</td>\n      <td>0</td>\n      <td>0</td>\n      <td>1</td>\n      <td>0</td>\n      <td>0</td>\n      <td>0</td>\n      <td>0</td>\n      <td>1</td>\n    </tr>\n    <tr>\n      <th>31</th>\n      <td>281</td>\n      <td>F</td>\n      <td>NaN</td>\n      <td>168.0</td>\n      <td>NaN</td>\n      <td>NaN</td>\n      <td>6</td>\n      <td>NaN</td>\n      <td>3</td>\n      <td>1</td>\n      <td>...</td>\n      <td>0</td>\n      <td>0</td>\n      <td>0</td>\n      <td>0</td>\n      <td>1</td>\n      <td>0</td>\n      <td>0</td>\n      <td>0</td>\n      <td>0</td>\n      <td>1</td>\n    </tr>\n    <tr>\n      <th>32</th>\n      <td>156</td>\n      <td>F</td>\n      <td>45.0</td>\n      <td>169.0</td>\n      <td>100.8</td>\n      <td>35.292882</td>\n      <td>6</td>\n      <td>5927.04</td>\n      <td>0</td>\n      <td>0</td>\n      <td>...</td>\n      <td>0</td>\n      <td>0</td>\n      <td>0</td>\n      <td>0</td>\n      <td>2</td>\n      <td>1</td>\n      <td>1</td>\n      <td>0</td>\n      <td>0</td>\n      <td>0</td>\n    </tr>\n    <tr>\n      <th>33</th>\n      <td>128</td>\n      <td>M</td>\n      <td>59.0</td>\n      <td>170.0</td>\n      <td>61.0</td>\n      <td>21.107266</td>\n      <td>6</td>\n      <td>3586.80</td>\n      <td>0</td>\n      <td>0</td>\n      <td>...</td>\n      <td>0</td>\n      <td>0</td>\n      <td>0</td>\n      <td>0</td>\n      <td>1</td>\n      <td>0</td>\n      <td>0</td>\n      <td>0</td>\n      <td>0</td>\n      <td>1</td>\n    </tr>\n    <tr>\n      <th>...</th>\n      <td>...</td>\n      <td>...</td>\n      <td>...</td>\n      <td>...</td>\n      <td>...</td>\n      <td>...</td>\n      <td>...</td>\n      <td>...</td>\n      <td>...</td>\n      <td>...</td>\n      <td>...</td>\n      <td>...</td>\n      <td>...</td>\n      <td>...</td>\n      <td>...</td>\n      <td>...</td>\n      <td>...</td>\n      <td>...</td>\n      <td>...</td>\n      <td>...</td>\n      <td>...</td>\n    </tr>\n    <tr>\n      <th>352</th>\n      <td>257</td>\n      <td>M</td>\n      <td>83.0</td>\n      <td>162.0</td>\n      <td>NaN</td>\n      <td>NaN</td>\n      <td>24</td>\n      <td>NaN</td>\n      <td>0</td>\n      <td>0</td>\n      <td>...</td>\n      <td>1</td>\n      <td>0</td>\n      <td>0</td>\n      <td>0</td>\n      <td>2</td>\n      <td>0</td>\n      <td>1</td>\n      <td>0</td>\n      <td>0</td>\n      <td>1</td>\n    </tr>\n    <tr>\n      <th>353</th>\n      <td>12</td>\n      <td>M</td>\n      <td>68.0</td>\n      <td>163.0</td>\n      <td>59.0</td>\n      <td>22.206331</td>\n      <td>24</td>\n      <td>13876.80</td>\n      <td>0</td>\n      <td>0</td>\n      <td>...</td>\n      <td>0</td>\n      <td>0</td>\n      <td>0</td>\n      <td>0</td>\n      <td>2</td>\n      <td>0</td>\n      <td>0</td>\n      <td>0</td>\n      <td>1</td>\n      <td>1</td>\n    </tr>\n    <tr>\n      <th>354</th>\n      <td>254</td>\n      <td>M</td>\n      <td>68.0</td>\n      <td>163.0</td>\n      <td>59.1</td>\n      <td>22.243969</td>\n      <td>24</td>\n      <td>13900.32</td>\n      <td>0</td>\n      <td>0</td>\n      <td>...</td>\n      <td>0</td>\n      <td>0</td>\n      <td>0</td>\n      <td>0</td>\n      <td>2</td>\n      <td>0</td>\n      <td>0</td>\n      <td>0</td>\n      <td>1</td>\n      <td>1</td>\n    </tr>\n    <tr>\n      <th>356</th>\n      <td>178</td>\n      <td>M</td>\n      <td>23.0</td>\n      <td>163.0</td>\n      <td>73.5</td>\n      <td>27.663819</td>\n      <td>24</td>\n      <td>17287.20</td>\n      <td>1</td>\n      <td>1</td>\n      <td>...</td>\n      <td>0</td>\n      <td>0</td>\n      <td>1</td>\n      <td>0</td>\n      <td>3</td>\n      <td>0</td>\n      <td>0</td>\n      <td>1</td>\n      <td>1</td>\n      <td>1</td>\n    </tr>\n    <tr>\n      <th>384</th>\n      <td>2</td>\n      <td>M</td>\n      <td>39.0</td>\n      <td>184.0</td>\n      <td>96.9</td>\n      <td>28.621219</td>\n      <td>24</td>\n      <td>22790.88</td>\n      <td>0</td>\n      <td>0</td>\n      <td>...</td>\n      <td>0</td>\n      <td>0</td>\n      <td>1</td>\n      <td>0</td>\n      <td>1</td>\n      <td>0</td>\n      <td>0</td>\n      <td>0</td>\n      <td>0</td>\n      <td>1</td>\n    </tr>\n  </tbody>\n</table>\n<p>385 rows × 32 columns</p>\n</div>"
     },
     "execution_count": 3,
     "metadata": {},
     "output_type": "execute_result"
    }
   ],
   "source": [
    "df_victims_of_fall_V1.sort_values(by = \"Altezza di precipitazione (m)\")"
   ],
   "metadata": {
    "collapsed": false,
    "pycharm": {
     "name": "#%%\n"
    }
   }
  },
  {
   "cell_type": "markdown",
   "source": [],
   "metadata": {
    "collapsed": false
   }
  },
  {
   "cell_type": "code",
   "execution_count": 30,
   "outputs": [],
   "source": [
    "df_victims_of_fall_V2 = df_victims_of_fall_V1.append(df_Precipitati_score_cvs, ignore_index=True)"
   ],
   "metadata": {
    "collapsed": false,
    "pycharm": {
     "name": "#%%\n"
    }
   }
  },
  {
   "cell_type": "code",
   "execution_count": 51,
   "outputs": [],
   "source": [
    "df_victims_of_fall_V2.to_csv(f\"{working_path}\\\\data\\\\victims_of_fall_V2.csv\")"
   ],
   "metadata": {
    "collapsed": false,
    "pycharm": {
     "name": "#%%\n"
    }
   }
  },
  {
   "cell_type": "code",
   "execution_count": 5,
   "outputs": [],
   "source": [
    "df_victims_of_fall_V2 = pd.read_csv(f\"{working_path}\\\\data\\\\victims_of_fall_V2.csv\", index_col=0)\n",
    "df_victims_of_fall_V2 = df_victims_of_fall_V2.dropna()"
   ],
   "metadata": {
    "collapsed": false,
    "pycharm": {
     "name": "#%%\n"
    }
   }
  },
  {
   "cell_type": "code",
   "execution_count": 6,
   "outputs": [
    {
     "data": {
      "text/plain": "       Casi Sesso   Età  Altezza soggetto   Peso        BMI  \\\n0       144     M  56.0             170.0   95.2  32.941176   \n1       140     M  62.0             148.0   29.6  13.513514   \n2       208     M  88.0             159.0   61.0  24.128792   \n3       142     M  59.0             160.0   62.8  24.531250   \n4       141     M  64.0             162.0   56.3  21.452522   \n..      ...   ...   ...               ...    ...        ...   \n444  100491     M  58.0             181.0  123.0  37.544641   \n445   99387     F  34.0             175.0   63.2  20.636735   \n446   99696     F  76.0             157.0   50.0  20.284799   \n447   98253     M  49.0             184.0  106.3  31.397684   \n448   99748     M  34.0             177.0   69.7  22.247758   \n\n     Altezza di precipitazione (m)       mgh  TESTA  Neurocranio   ...  \\\n0                                6   5597.76      2             1  ...   \n1                                6   1740.48      0             0  ...   \n2                                6   3586.80      0             0  ...   \n3                                6   3692.64      1             0  ...   \n4                                6   3310.44      1             1  ...   \n..                             ...       ...    ...           ...  ...   \n444                             15  18081.00      0             0  ...   \n445                             21  13006.56      0             0  ...   \n446                             18   8820.00      0             0  ...   \n447                             18  18751.32      0             0  ...   \n448                             18  12295.08      1             1  ...   \n\n     Milza   Aorta Add   Reni   Mesentere   SCHELETRO  Rachide Cervicale   \\\n0         0           0      0           0          1                   0   \n1         0           0      0           0          1                   0   \n2         0           0      0           0          1                   0   \n3         0           0      0           0          1                   0   \n4         0           0      0           0          1                   0   \n..      ...         ...    ...         ...        ...                 ...   \n444       0           0      0           0          3                   0   \n445       0           0      1           0          0                   0   \n446       0           0      0           0          3                   1   \n447       1           0      0           0          3                   0   \n448       1           0      0           0          2                   0   \n\n     Rachide Toracico   Rachide Lombare   Bacino   Complesso S-C-C   \n0                    0                 0        0                 1  \n1                    0                 0        1                 0  \n2                    0                 0        0                 1  \n3                    0                 0        0                 1  \n4                    0                 0        1                 0  \n..                 ...               ...      ...               ...  \n444                  1                 0        1                 1  \n445                  0                 0        0                 0  \n446                  0                 0        1                 1  \n447                  1                 0        1                 1  \n448                  0                 0        1                 1  \n\n[405 rows x 32 columns]",
      "text/html": "<div>\n<style scoped>\n    .dataframe tbody tr th:only-of-type {\n        vertical-align: middle;\n    }\n\n    .dataframe tbody tr th {\n        vertical-align: top;\n    }\n\n    .dataframe thead th {\n        text-align: right;\n    }\n</style>\n<table border=\"1\" class=\"dataframe\">\n  <thead>\n    <tr style=\"text-align: right;\">\n      <th></th>\n      <th>Casi</th>\n      <th>Sesso</th>\n      <th>Età</th>\n      <th>Altezza soggetto</th>\n      <th>Peso</th>\n      <th>BMI</th>\n      <th>Altezza di precipitazione (m)</th>\n      <th>mgh</th>\n      <th>TESTA</th>\n      <th>Neurocranio</th>\n      <th>...</th>\n      <th>Milza</th>\n      <th>Aorta Add</th>\n      <th>Reni</th>\n      <th>Mesentere</th>\n      <th>SCHELETRO</th>\n      <th>Rachide Cervicale</th>\n      <th>Rachide Toracico</th>\n      <th>Rachide Lombare</th>\n      <th>Bacino</th>\n      <th>Complesso S-C-C</th>\n    </tr>\n  </thead>\n  <tbody>\n    <tr>\n      <th>0</th>\n      <td>144</td>\n      <td>M</td>\n      <td>56.0</td>\n      <td>170.0</td>\n      <td>95.2</td>\n      <td>32.941176</td>\n      <td>6</td>\n      <td>5597.76</td>\n      <td>2</td>\n      <td>1</td>\n      <td>...</td>\n      <td>0</td>\n      <td>0</td>\n      <td>0</td>\n      <td>0</td>\n      <td>1</td>\n      <td>0</td>\n      <td>0</td>\n      <td>0</td>\n      <td>0</td>\n      <td>1</td>\n    </tr>\n    <tr>\n      <th>1</th>\n      <td>140</td>\n      <td>M</td>\n      <td>62.0</td>\n      <td>148.0</td>\n      <td>29.6</td>\n      <td>13.513514</td>\n      <td>6</td>\n      <td>1740.48</td>\n      <td>0</td>\n      <td>0</td>\n      <td>...</td>\n      <td>0</td>\n      <td>0</td>\n      <td>0</td>\n      <td>0</td>\n      <td>1</td>\n      <td>0</td>\n      <td>0</td>\n      <td>0</td>\n      <td>1</td>\n      <td>0</td>\n    </tr>\n    <tr>\n      <th>2</th>\n      <td>208</td>\n      <td>M</td>\n      <td>88.0</td>\n      <td>159.0</td>\n      <td>61.0</td>\n      <td>24.128792</td>\n      <td>6</td>\n      <td>3586.80</td>\n      <td>0</td>\n      <td>0</td>\n      <td>...</td>\n      <td>0</td>\n      <td>0</td>\n      <td>0</td>\n      <td>0</td>\n      <td>1</td>\n      <td>0</td>\n      <td>0</td>\n      <td>0</td>\n      <td>0</td>\n      <td>1</td>\n    </tr>\n    <tr>\n      <th>3</th>\n      <td>142</td>\n      <td>M</td>\n      <td>59.0</td>\n      <td>160.0</td>\n      <td>62.8</td>\n      <td>24.531250</td>\n      <td>6</td>\n      <td>3692.64</td>\n      <td>1</td>\n      <td>0</td>\n      <td>...</td>\n      <td>0</td>\n      <td>0</td>\n      <td>0</td>\n      <td>0</td>\n      <td>1</td>\n      <td>0</td>\n      <td>0</td>\n      <td>0</td>\n      <td>0</td>\n      <td>1</td>\n    </tr>\n    <tr>\n      <th>4</th>\n      <td>141</td>\n      <td>M</td>\n      <td>64.0</td>\n      <td>162.0</td>\n      <td>56.3</td>\n      <td>21.452522</td>\n      <td>6</td>\n      <td>3310.44</td>\n      <td>1</td>\n      <td>1</td>\n      <td>...</td>\n      <td>0</td>\n      <td>0</td>\n      <td>0</td>\n      <td>0</td>\n      <td>1</td>\n      <td>0</td>\n      <td>0</td>\n      <td>0</td>\n      <td>1</td>\n      <td>0</td>\n    </tr>\n    <tr>\n      <th>...</th>\n      <td>...</td>\n      <td>...</td>\n      <td>...</td>\n      <td>...</td>\n      <td>...</td>\n      <td>...</td>\n      <td>...</td>\n      <td>...</td>\n      <td>...</td>\n      <td>...</td>\n      <td>...</td>\n      <td>...</td>\n      <td>...</td>\n      <td>...</td>\n      <td>...</td>\n      <td>...</td>\n      <td>...</td>\n      <td>...</td>\n      <td>...</td>\n      <td>...</td>\n      <td>...</td>\n    </tr>\n    <tr>\n      <th>444</th>\n      <td>100491</td>\n      <td>M</td>\n      <td>58.0</td>\n      <td>181.0</td>\n      <td>123.0</td>\n      <td>37.544641</td>\n      <td>15</td>\n      <td>18081.00</td>\n      <td>0</td>\n      <td>0</td>\n      <td>...</td>\n      <td>0</td>\n      <td>0</td>\n      <td>0</td>\n      <td>0</td>\n      <td>3</td>\n      <td>0</td>\n      <td>1</td>\n      <td>0</td>\n      <td>1</td>\n      <td>1</td>\n    </tr>\n    <tr>\n      <th>445</th>\n      <td>99387</td>\n      <td>F</td>\n      <td>34.0</td>\n      <td>175.0</td>\n      <td>63.2</td>\n      <td>20.636735</td>\n      <td>21</td>\n      <td>13006.56</td>\n      <td>0</td>\n      <td>0</td>\n      <td>...</td>\n      <td>0</td>\n      <td>0</td>\n      <td>1</td>\n      <td>0</td>\n      <td>0</td>\n      <td>0</td>\n      <td>0</td>\n      <td>0</td>\n      <td>0</td>\n      <td>0</td>\n    </tr>\n    <tr>\n      <th>446</th>\n      <td>99696</td>\n      <td>F</td>\n      <td>76.0</td>\n      <td>157.0</td>\n      <td>50.0</td>\n      <td>20.284799</td>\n      <td>18</td>\n      <td>8820.00</td>\n      <td>0</td>\n      <td>0</td>\n      <td>...</td>\n      <td>0</td>\n      <td>0</td>\n      <td>0</td>\n      <td>0</td>\n      <td>3</td>\n      <td>1</td>\n      <td>0</td>\n      <td>0</td>\n      <td>1</td>\n      <td>1</td>\n    </tr>\n    <tr>\n      <th>447</th>\n      <td>98253</td>\n      <td>M</td>\n      <td>49.0</td>\n      <td>184.0</td>\n      <td>106.3</td>\n      <td>31.397684</td>\n      <td>18</td>\n      <td>18751.32</td>\n      <td>0</td>\n      <td>0</td>\n      <td>...</td>\n      <td>1</td>\n      <td>0</td>\n      <td>0</td>\n      <td>0</td>\n      <td>3</td>\n      <td>0</td>\n      <td>1</td>\n      <td>0</td>\n      <td>1</td>\n      <td>1</td>\n    </tr>\n    <tr>\n      <th>448</th>\n      <td>99748</td>\n      <td>M</td>\n      <td>34.0</td>\n      <td>177.0</td>\n      <td>69.7</td>\n      <td>22.247758</td>\n      <td>18</td>\n      <td>12295.08</td>\n      <td>1</td>\n      <td>1</td>\n      <td>...</td>\n      <td>1</td>\n      <td>0</td>\n      <td>0</td>\n      <td>0</td>\n      <td>2</td>\n      <td>0</td>\n      <td>0</td>\n      <td>0</td>\n      <td>1</td>\n      <td>1</td>\n    </tr>\n  </tbody>\n</table>\n<p>405 rows × 32 columns</p>\n</div>"
     },
     "execution_count": 6,
     "metadata": {},
     "output_type": "execute_result"
    }
   ],
   "source": [
    "df_victims_of_fall_V2"
   ],
   "metadata": {
    "collapsed": false,
    "pycharm": {
     "name": "#%%\n"
    }
   }
  },
  {
   "cell_type": "code",
   "execution_count": 50,
   "outputs": [
    {
     "data": {
      "text/plain": "       Casi Sesso   Età  Altezza soggetto   Peso        BMI  \\\n0       144     M  56.0             170.0   95.2  32.941176   \n1       140     M  62.0             148.0   29.6  13.513514   \n2       208     M  88.0             159.0   61.0  24.128792   \n3       142     M  59.0             160.0   62.8  24.531250   \n4       141     M  64.0             162.0   56.3  21.452522   \n..      ...   ...   ...               ...    ...        ...   \n400  100491     M  58.0             181.0  123.0  37.544641   \n401   99387     F  34.0             175.0   63.2  20.636735   \n402   99696     F  76.0             157.0   50.0  20.284799   \n403   98253     M  49.0             184.0  106.3  31.397684   \n404   99748     M  34.0             177.0   69.7  22.247758   \n\n     Altezza di precipitazione (m)       mgh  TESTA  Neurocranio   ...  \\\n0                                6   5597.76      2             1  ...   \n1                                6   1740.48      0             0  ...   \n2                                6   3586.80      0             0  ...   \n3                                6   3692.64      1             0  ...   \n4                                6   3310.44      1             1  ...   \n..                             ...       ...    ...           ...  ...   \n400                             15  18081.00      0             0  ...   \n401                             21  13006.56      0             0  ...   \n402                             18   8820.00      0             0  ...   \n403                             18  18751.32      0             0  ...   \n404                             18  12295.08      1             1  ...   \n\n     Milza   Aorta Add   Reni   Mesentere   SCHELETRO  Rachide Cervicale   \\\n0         0           0      0           0          1                   0   \n1         0           0      0           0          1                   0   \n2         0           0      0           0          1                   0   \n3         0           0      0           0          1                   0   \n4         0           0      0           0          1                   0   \n..      ...         ...    ...         ...        ...                 ...   \n400       0           0      0           0          3                   0   \n401       0           0      1           0          0                   0   \n402       0           0      0           0          3                   1   \n403       1           0      0           0          3                   0   \n404       1           0      0           0          2                   0   \n\n     Rachide Toracico   Rachide Lombare   Bacino   Complesso S-C-C   \n0                    0                 0        0                 1  \n1                    0                 0        1                 0  \n2                    0                 0        0                 1  \n3                    0                 0        0                 1  \n4                    0                 0        1                 0  \n..                 ...               ...      ...               ...  \n400                  1                 0        1                 1  \n401                  0                 0        0                 0  \n402                  0                 0        1                 1  \n403                  1                 0        1                 1  \n404                  0                 0        1                 1  \n\n[405 rows x 32 columns]",
      "text/html": "<div>\n<style scoped>\n    .dataframe tbody tr th:only-of-type {\n        vertical-align: middle;\n    }\n\n    .dataframe tbody tr th {\n        vertical-align: top;\n    }\n\n    .dataframe thead th {\n        text-align: right;\n    }\n</style>\n<table border=\"1\" class=\"dataframe\">\n  <thead>\n    <tr style=\"text-align: right;\">\n      <th></th>\n      <th>Casi</th>\n      <th>Sesso</th>\n      <th>Età</th>\n      <th>Altezza soggetto</th>\n      <th>Peso</th>\n      <th>BMI</th>\n      <th>Altezza di precipitazione (m)</th>\n      <th>mgh</th>\n      <th>TESTA</th>\n      <th>Neurocranio</th>\n      <th>...</th>\n      <th>Milza</th>\n      <th>Aorta Add</th>\n      <th>Reni</th>\n      <th>Mesentere</th>\n      <th>SCHELETRO</th>\n      <th>Rachide Cervicale</th>\n      <th>Rachide Toracico</th>\n      <th>Rachide Lombare</th>\n      <th>Bacino</th>\n      <th>Complesso S-C-C</th>\n    </tr>\n  </thead>\n  <tbody>\n    <tr>\n      <th>0</th>\n      <td>144</td>\n      <td>M</td>\n      <td>56.0</td>\n      <td>170.0</td>\n      <td>95.2</td>\n      <td>32.941176</td>\n      <td>6</td>\n      <td>5597.76</td>\n      <td>2</td>\n      <td>1</td>\n      <td>...</td>\n      <td>0</td>\n      <td>0</td>\n      <td>0</td>\n      <td>0</td>\n      <td>1</td>\n      <td>0</td>\n      <td>0</td>\n      <td>0</td>\n      <td>0</td>\n      <td>1</td>\n    </tr>\n    <tr>\n      <th>1</th>\n      <td>140</td>\n      <td>M</td>\n      <td>62.0</td>\n      <td>148.0</td>\n      <td>29.6</td>\n      <td>13.513514</td>\n      <td>6</td>\n      <td>1740.48</td>\n      <td>0</td>\n      <td>0</td>\n      <td>...</td>\n      <td>0</td>\n      <td>0</td>\n      <td>0</td>\n      <td>0</td>\n      <td>1</td>\n      <td>0</td>\n      <td>0</td>\n      <td>0</td>\n      <td>1</td>\n      <td>0</td>\n    </tr>\n    <tr>\n      <th>2</th>\n      <td>208</td>\n      <td>M</td>\n      <td>88.0</td>\n      <td>159.0</td>\n      <td>61.0</td>\n      <td>24.128792</td>\n      <td>6</td>\n      <td>3586.80</td>\n      <td>0</td>\n      <td>0</td>\n      <td>...</td>\n      <td>0</td>\n      <td>0</td>\n      <td>0</td>\n      <td>0</td>\n      <td>1</td>\n      <td>0</td>\n      <td>0</td>\n      <td>0</td>\n      <td>0</td>\n      <td>1</td>\n    </tr>\n    <tr>\n      <th>3</th>\n      <td>142</td>\n      <td>M</td>\n      <td>59.0</td>\n      <td>160.0</td>\n      <td>62.8</td>\n      <td>24.531250</td>\n      <td>6</td>\n      <td>3692.64</td>\n      <td>1</td>\n      <td>0</td>\n      <td>...</td>\n      <td>0</td>\n      <td>0</td>\n      <td>0</td>\n      <td>0</td>\n      <td>1</td>\n      <td>0</td>\n      <td>0</td>\n      <td>0</td>\n      <td>0</td>\n      <td>1</td>\n    </tr>\n    <tr>\n      <th>4</th>\n      <td>141</td>\n      <td>M</td>\n      <td>64.0</td>\n      <td>162.0</td>\n      <td>56.3</td>\n      <td>21.452522</td>\n      <td>6</td>\n      <td>3310.44</td>\n      <td>1</td>\n      <td>1</td>\n      <td>...</td>\n      <td>0</td>\n      <td>0</td>\n      <td>0</td>\n      <td>0</td>\n      <td>1</td>\n      <td>0</td>\n      <td>0</td>\n      <td>0</td>\n      <td>1</td>\n      <td>0</td>\n    </tr>\n    <tr>\n      <th>...</th>\n      <td>...</td>\n      <td>...</td>\n      <td>...</td>\n      <td>...</td>\n      <td>...</td>\n      <td>...</td>\n      <td>...</td>\n      <td>...</td>\n      <td>...</td>\n      <td>...</td>\n      <td>...</td>\n      <td>...</td>\n      <td>...</td>\n      <td>...</td>\n      <td>...</td>\n      <td>...</td>\n      <td>...</td>\n      <td>...</td>\n      <td>...</td>\n      <td>...</td>\n      <td>...</td>\n    </tr>\n    <tr>\n      <th>400</th>\n      <td>100491</td>\n      <td>M</td>\n      <td>58.0</td>\n      <td>181.0</td>\n      <td>123.0</td>\n      <td>37.544641</td>\n      <td>15</td>\n      <td>18081.00</td>\n      <td>0</td>\n      <td>0</td>\n      <td>...</td>\n      <td>0</td>\n      <td>0</td>\n      <td>0</td>\n      <td>0</td>\n      <td>3</td>\n      <td>0</td>\n      <td>1</td>\n      <td>0</td>\n      <td>1</td>\n      <td>1</td>\n    </tr>\n    <tr>\n      <th>401</th>\n      <td>99387</td>\n      <td>F</td>\n      <td>34.0</td>\n      <td>175.0</td>\n      <td>63.2</td>\n      <td>20.636735</td>\n      <td>21</td>\n      <td>13006.56</td>\n      <td>0</td>\n      <td>0</td>\n      <td>...</td>\n      <td>0</td>\n      <td>0</td>\n      <td>1</td>\n      <td>0</td>\n      <td>0</td>\n      <td>0</td>\n      <td>0</td>\n      <td>0</td>\n      <td>0</td>\n      <td>0</td>\n    </tr>\n    <tr>\n      <th>402</th>\n      <td>99696</td>\n      <td>F</td>\n      <td>76.0</td>\n      <td>157.0</td>\n      <td>50.0</td>\n      <td>20.284799</td>\n      <td>18</td>\n      <td>8820.00</td>\n      <td>0</td>\n      <td>0</td>\n      <td>...</td>\n      <td>0</td>\n      <td>0</td>\n      <td>0</td>\n      <td>0</td>\n      <td>3</td>\n      <td>1</td>\n      <td>0</td>\n      <td>0</td>\n      <td>1</td>\n      <td>1</td>\n    </tr>\n    <tr>\n      <th>403</th>\n      <td>98253</td>\n      <td>M</td>\n      <td>49.0</td>\n      <td>184.0</td>\n      <td>106.3</td>\n      <td>31.397684</td>\n      <td>18</td>\n      <td>18751.32</td>\n      <td>0</td>\n      <td>0</td>\n      <td>...</td>\n      <td>1</td>\n      <td>0</td>\n      <td>0</td>\n      <td>0</td>\n      <td>3</td>\n      <td>0</td>\n      <td>1</td>\n      <td>0</td>\n      <td>1</td>\n      <td>1</td>\n    </tr>\n    <tr>\n      <th>404</th>\n      <td>99748</td>\n      <td>M</td>\n      <td>34.0</td>\n      <td>177.0</td>\n      <td>69.7</td>\n      <td>22.247758</td>\n      <td>18</td>\n      <td>12295.08</td>\n      <td>1</td>\n      <td>1</td>\n      <td>...</td>\n      <td>1</td>\n      <td>0</td>\n      <td>0</td>\n      <td>0</td>\n      <td>2</td>\n      <td>0</td>\n      <td>0</td>\n      <td>0</td>\n      <td>1</td>\n      <td>1</td>\n    </tr>\n  </tbody>\n</table>\n<p>405 rows × 32 columns</p>\n</div>"
     },
     "execution_count": 50,
     "metadata": {},
     "output_type": "execute_result"
    }
   ],
   "source": [
    "df_victims_of_fall_V2.reset_index(drop=True)"
   ],
   "metadata": {
    "collapsed": false,
    "pycharm": {
     "name": "#%%\n"
    }
   }
  },
  {
   "cell_type": "code",
   "execution_count": 5,
   "outputs": [],
   "source": [
    "df_victims_of_fall_V1 = pd.read_csv(f\"{working_path}\\\\data\\\\victims_of_fall_V1.csv\", index_col=0)\n",
    "df_Precipitati_score_cvs = pd.read_csv(f\"{working_path}\\\\data\\\\Precipitati_score.csv\", index_col=0)"
   ],
   "metadata": {
    "collapsed": false,
    "pycharm": {
     "name": "#%%\n"
    }
   }
  },
  {
   "cell_type": "code",
   "execution_count": 10,
   "outputs": [],
   "source": [
    "V1_heights = list(df_victims_of_fall_V1[\"Altezza di precipitazione (m)\"].unique())"
   ],
   "metadata": {
    "collapsed": false,
    "pycharm": {
     "name": "#%%\n"
    }
   }
  },
  {
   "cell_type": "code",
   "execution_count": 11,
   "outputs": [
    {
     "name": "stdout",
     "output_type": "stream",
     "text": [
      "Before:33\n",
      "After:24\n",
      "Before:12\n",
      "After:12\n",
      "Before:12\n",
      "After:12\n",
      "Before:30\n",
      "After:24\n",
      "Before:12\n",
      "After:12\n",
      "Before:15\n",
      "After:15\n",
      "Before:15\n",
      "After:15\n",
      "Before:6\n",
      "After:6\n",
      "Before:18\n",
      "After:18\n",
      "Before:3\n",
      "After:6\n",
      "Before:24\n",
      "After:24\n",
      "Before:15\n",
      "After:15\n",
      "Before:12\n",
      "After:12\n",
      "Before:15\n",
      "After:15\n",
      "Before:15\n",
      "After:15\n",
      "Before:12\n",
      "After:12\n",
      "Before:18\n",
      "After:18\n",
      "Before:12\n",
      "After:12\n",
      "Before:9\n",
      "After:9\n",
      "Before:33\n",
      "After:24\n",
      "Before:24\n",
      "After:24\n",
      "Before:12\n",
      "After:12\n",
      "Before:39\n",
      "After:24\n",
      "Before:24\n",
      "After:24\n",
      "Before:24\n",
      "After:24\n",
      "Before:18\n",
      "After:18\n",
      "Before:6\n",
      "After:6\n",
      "Before:24\n",
      "After:24\n",
      "Before:15\n",
      "After:15\n",
      "Before:6\n",
      "After:6\n",
      "Before:18\n",
      "After:18\n",
      "Before:12\n",
      "After:12\n",
      "Before:12\n",
      "After:12\n",
      "Before:15\n",
      "After:15\n",
      "Before:18\n",
      "After:18\n",
      "Before:5\n",
      "After:6\n",
      "Before:30\n",
      "After:24\n",
      "Before:6\n",
      "After:6\n",
      "Before:12\n",
      "After:12\n",
      "Before:8\n",
      "After:9\n",
      "Before:12\n",
      "After:12\n",
      "Before:15\n",
      "After:15\n",
      "Before:20\n",
      "After:21\n",
      "Before:15\n",
      "After:15\n",
      "Before:18\n",
      "After:18\n",
      "Before:51\n",
      "After:24\n",
      "Before:27\n",
      "After:24\n",
      "Before:13\n",
      "After:12\n",
      "Before:15\n",
      "After:15\n",
      "Before:9\n",
      "After:9\n",
      "Before:15\n",
      "After:15\n",
      "Before:6\n",
      "After:6\n",
      "Before:21\n",
      "After:21\n",
      "Before:15\n",
      "After:15\n",
      "Before:10\n",
      "After:9\n",
      "Before:21\n",
      "After:21\n",
      "Before:18\n",
      "After:18\n",
      "Before:24\n",
      "After:24\n",
      "Before:15\n",
      "After:15\n",
      "Before:15\n",
      "After:15\n",
      "Before:21\n",
      "After:21\n",
      "Before:18\n",
      "After:18\n",
      "Before:18\n",
      "After:18\n",
      "Before:18\n",
      "After:18\n"
     ]
    }
   ],
   "source": [
    "def normalize_heights(x):\n",
    "    print(f\"Before:{x}\")\n",
    "    x = min(V1_heights, key=lambda h:abs(h-x))\n",
    "    print(f\"After:{x}\")\n",
    "    return x\n",
    "df_Precipitati_score_cvs[\"Altezza di precipitazione (m)\"] = df_Precipitati_score_cvs[\"Altezza di precipitazione (m)\"].apply(lambda x: normalize_heights(x))"
   ],
   "metadata": {
    "collapsed": false,
    "pycharm": {
     "name": "#%%\n"
    }
   }
  },
  {
   "cell_type": "code",
   "execution_count": 14,
   "outputs": [],
   "source": [
    "df_victims_of_fall_V2 = df_victims_of_fall_V1.append(df_Precipitati_score_cvs, ignore_index=True)\n",
    "df_victims_of_fall_V2 = df_victims_of_fall_V2.dropna()\n",
    "df_victims_of_fall_V2.to_csv(f\"{working_path}\\\\data\\\\victims_of_fall_V2.csv\")"
   ],
   "metadata": {
    "collapsed": false,
    "pycharm": {
     "name": "#%%\n"
    }
   }
  },
  {
   "cell_type": "code",
   "execution_count": 15,
   "outputs": [
    {
     "data": {
      "text/plain": "405"
     },
     "execution_count": 15,
     "metadata": {},
     "output_type": "execute_result"
    }
   ],
   "source": [
    "len(df_victims_of_fall_V2)"
   ],
   "metadata": {
    "collapsed": false,
    "pycharm": {
     "name": "#%%\n"
    }
   }
  },
  {
   "cell_type": "code",
   "execution_count": 16,
   "outputs": [
    {
     "data": {
      "text/plain": "       Casi Sesso   Età  Altezza soggetto   Peso        BMI  \\\n0       144     M  56.0             170.0   95.2  32.941176   \n1       140     M  62.0             148.0   29.6  13.513514   \n2       208     M  88.0             159.0   61.0  24.128792   \n3       142     M  59.0             160.0   62.8  24.531250   \n4       141     M  64.0             162.0   56.3  21.452522   \n..      ...   ...   ...               ...    ...        ...   \n444  100491     M  58.0             181.0  123.0  37.544641   \n445   99387     F  34.0             175.0   63.2  20.636735   \n446   99696     F  76.0             157.0   50.0  20.284799   \n447   98253     M  49.0             184.0  106.3  31.397684   \n448   99748     M  34.0             177.0   69.7  22.247758   \n\n     Altezza di precipitazione (m)       mgh  TESTA  Neurocranio   ...  \\\n0                                6   5597.76      2             1  ...   \n1                                6   1740.48      0             0  ...   \n2                                6   3586.80      0             0  ...   \n3                                6   3692.64      1             0  ...   \n4                                6   3310.44      1             1  ...   \n..                             ...       ...    ...           ...  ...   \n444                             15  18081.00      0             0  ...   \n445                             21  13006.56      0             0  ...   \n446                             18   8820.00      0             0  ...   \n447                             18  18751.32      0             0  ...   \n448                             18  12295.08      1             1  ...   \n\n     Milza   Aorta Add   Reni   Mesentere   SCHELETRO  Rachide Cervicale   \\\n0         0           0      0           0          1                   0   \n1         0           0      0           0          1                   0   \n2         0           0      0           0          1                   0   \n3         0           0      0           0          1                   0   \n4         0           0      0           0          1                   0   \n..      ...         ...    ...         ...        ...                 ...   \n444       0           0      0           0          3                   0   \n445       0           0      1           0          0                   0   \n446       0           0      0           0          3                   1   \n447       1           0      0           0          3                   0   \n448       1           0      0           0          2                   0   \n\n     Rachide Toracico   Rachide Lombare   Bacino   Complesso S-C-C   \n0                    0                 0        0                 1  \n1                    0                 0        1                 0  \n2                    0                 0        0                 1  \n3                    0                 0        0                 1  \n4                    0                 0        1                 0  \n..                 ...               ...      ...               ...  \n444                  1                 0        1                 1  \n445                  0                 0        0                 0  \n446                  0                 0        1                 1  \n447                  1                 0        1                 1  \n448                  0                 0        1                 1  \n\n[405 rows x 32 columns]",
      "text/html": "<div>\n<style scoped>\n    .dataframe tbody tr th:only-of-type {\n        vertical-align: middle;\n    }\n\n    .dataframe tbody tr th {\n        vertical-align: top;\n    }\n\n    .dataframe thead th {\n        text-align: right;\n    }\n</style>\n<table border=\"1\" class=\"dataframe\">\n  <thead>\n    <tr style=\"text-align: right;\">\n      <th></th>\n      <th>Casi</th>\n      <th>Sesso</th>\n      <th>Età</th>\n      <th>Altezza soggetto</th>\n      <th>Peso</th>\n      <th>BMI</th>\n      <th>Altezza di precipitazione (m)</th>\n      <th>mgh</th>\n      <th>TESTA</th>\n      <th>Neurocranio</th>\n      <th>...</th>\n      <th>Milza</th>\n      <th>Aorta Add</th>\n      <th>Reni</th>\n      <th>Mesentere</th>\n      <th>SCHELETRO</th>\n      <th>Rachide Cervicale</th>\n      <th>Rachide Toracico</th>\n      <th>Rachide Lombare</th>\n      <th>Bacino</th>\n      <th>Complesso S-C-C</th>\n    </tr>\n  </thead>\n  <tbody>\n    <tr>\n      <th>0</th>\n      <td>144</td>\n      <td>M</td>\n      <td>56.0</td>\n      <td>170.0</td>\n      <td>95.2</td>\n      <td>32.941176</td>\n      <td>6</td>\n      <td>5597.76</td>\n      <td>2</td>\n      <td>1</td>\n      <td>...</td>\n      <td>0</td>\n      <td>0</td>\n      <td>0</td>\n      <td>0</td>\n      <td>1</td>\n      <td>0</td>\n      <td>0</td>\n      <td>0</td>\n      <td>0</td>\n      <td>1</td>\n    </tr>\n    <tr>\n      <th>1</th>\n      <td>140</td>\n      <td>M</td>\n      <td>62.0</td>\n      <td>148.0</td>\n      <td>29.6</td>\n      <td>13.513514</td>\n      <td>6</td>\n      <td>1740.48</td>\n      <td>0</td>\n      <td>0</td>\n      <td>...</td>\n      <td>0</td>\n      <td>0</td>\n      <td>0</td>\n      <td>0</td>\n      <td>1</td>\n      <td>0</td>\n      <td>0</td>\n      <td>0</td>\n      <td>1</td>\n      <td>0</td>\n    </tr>\n    <tr>\n      <th>2</th>\n      <td>208</td>\n      <td>M</td>\n      <td>88.0</td>\n      <td>159.0</td>\n      <td>61.0</td>\n      <td>24.128792</td>\n      <td>6</td>\n      <td>3586.80</td>\n      <td>0</td>\n      <td>0</td>\n      <td>...</td>\n      <td>0</td>\n      <td>0</td>\n      <td>0</td>\n      <td>0</td>\n      <td>1</td>\n      <td>0</td>\n      <td>0</td>\n      <td>0</td>\n      <td>0</td>\n      <td>1</td>\n    </tr>\n    <tr>\n      <th>3</th>\n      <td>142</td>\n      <td>M</td>\n      <td>59.0</td>\n      <td>160.0</td>\n      <td>62.8</td>\n      <td>24.531250</td>\n      <td>6</td>\n      <td>3692.64</td>\n      <td>1</td>\n      <td>0</td>\n      <td>...</td>\n      <td>0</td>\n      <td>0</td>\n      <td>0</td>\n      <td>0</td>\n      <td>1</td>\n      <td>0</td>\n      <td>0</td>\n      <td>0</td>\n      <td>0</td>\n      <td>1</td>\n    </tr>\n    <tr>\n      <th>4</th>\n      <td>141</td>\n      <td>M</td>\n      <td>64.0</td>\n      <td>162.0</td>\n      <td>56.3</td>\n      <td>21.452522</td>\n      <td>6</td>\n      <td>3310.44</td>\n      <td>1</td>\n      <td>1</td>\n      <td>...</td>\n      <td>0</td>\n      <td>0</td>\n      <td>0</td>\n      <td>0</td>\n      <td>1</td>\n      <td>0</td>\n      <td>0</td>\n      <td>0</td>\n      <td>1</td>\n      <td>0</td>\n    </tr>\n    <tr>\n      <th>...</th>\n      <td>...</td>\n      <td>...</td>\n      <td>...</td>\n      <td>...</td>\n      <td>...</td>\n      <td>...</td>\n      <td>...</td>\n      <td>...</td>\n      <td>...</td>\n      <td>...</td>\n      <td>...</td>\n      <td>...</td>\n      <td>...</td>\n      <td>...</td>\n      <td>...</td>\n      <td>...</td>\n      <td>...</td>\n      <td>...</td>\n      <td>...</td>\n      <td>...</td>\n      <td>...</td>\n    </tr>\n    <tr>\n      <th>444</th>\n      <td>100491</td>\n      <td>M</td>\n      <td>58.0</td>\n      <td>181.0</td>\n      <td>123.0</td>\n      <td>37.544641</td>\n      <td>15</td>\n      <td>18081.00</td>\n      <td>0</td>\n      <td>0</td>\n      <td>...</td>\n      <td>0</td>\n      <td>0</td>\n      <td>0</td>\n      <td>0</td>\n      <td>3</td>\n      <td>0</td>\n      <td>1</td>\n      <td>0</td>\n      <td>1</td>\n      <td>1</td>\n    </tr>\n    <tr>\n      <th>445</th>\n      <td>99387</td>\n      <td>F</td>\n      <td>34.0</td>\n      <td>175.0</td>\n      <td>63.2</td>\n      <td>20.636735</td>\n      <td>21</td>\n      <td>13006.56</td>\n      <td>0</td>\n      <td>0</td>\n      <td>...</td>\n      <td>0</td>\n      <td>0</td>\n      <td>1</td>\n      <td>0</td>\n      <td>0</td>\n      <td>0</td>\n      <td>0</td>\n      <td>0</td>\n      <td>0</td>\n      <td>0</td>\n    </tr>\n    <tr>\n      <th>446</th>\n      <td>99696</td>\n      <td>F</td>\n      <td>76.0</td>\n      <td>157.0</td>\n      <td>50.0</td>\n      <td>20.284799</td>\n      <td>18</td>\n      <td>8820.00</td>\n      <td>0</td>\n      <td>0</td>\n      <td>...</td>\n      <td>0</td>\n      <td>0</td>\n      <td>0</td>\n      <td>0</td>\n      <td>3</td>\n      <td>1</td>\n      <td>0</td>\n      <td>0</td>\n      <td>1</td>\n      <td>1</td>\n    </tr>\n    <tr>\n      <th>447</th>\n      <td>98253</td>\n      <td>M</td>\n      <td>49.0</td>\n      <td>184.0</td>\n      <td>106.3</td>\n      <td>31.397684</td>\n      <td>18</td>\n      <td>18751.32</td>\n      <td>0</td>\n      <td>0</td>\n      <td>...</td>\n      <td>1</td>\n      <td>0</td>\n      <td>0</td>\n      <td>0</td>\n      <td>3</td>\n      <td>0</td>\n      <td>1</td>\n      <td>0</td>\n      <td>1</td>\n      <td>1</td>\n    </tr>\n    <tr>\n      <th>448</th>\n      <td>99748</td>\n      <td>M</td>\n      <td>34.0</td>\n      <td>177.0</td>\n      <td>69.7</td>\n      <td>22.247758</td>\n      <td>18</td>\n      <td>12295.08</td>\n      <td>1</td>\n      <td>1</td>\n      <td>...</td>\n      <td>1</td>\n      <td>0</td>\n      <td>0</td>\n      <td>0</td>\n      <td>2</td>\n      <td>0</td>\n      <td>0</td>\n      <td>0</td>\n      <td>1</td>\n      <td>1</td>\n    </tr>\n  </tbody>\n</table>\n<p>405 rows × 32 columns</p>\n</div>"
     },
     "execution_count": 16,
     "metadata": {},
     "output_type": "execute_result"
    }
   ],
   "source": [
    "df_victims_of_fall_V2"
   ],
   "metadata": {
    "collapsed": false,
    "pycharm": {
     "name": "#%%\n"
    }
   }
  },
  {
   "cell_type": "code",
   "execution_count": null,
   "outputs": [],
   "source": [],
   "metadata": {
    "collapsed": false,
    "pycharm": {
     "name": "#%%\n"
    }
   }
  }
 ],
 "metadata": {
  "kernelspec": {
   "display_name": "Python 3",
   "language": "python",
   "name": "python3"
  },
  "language_info": {
   "codemirror_mode": {
    "name": "ipython",
    "version": 2
   },
   "file_extension": ".py",
   "mimetype": "text/x-python",
   "name": "python",
   "nbconvert_exporter": "python",
   "pygments_lexer": "ipython2",
   "version": "2.7.6"
  }
 },
 "nbformat": 4,
 "nbformat_minor": 0
}