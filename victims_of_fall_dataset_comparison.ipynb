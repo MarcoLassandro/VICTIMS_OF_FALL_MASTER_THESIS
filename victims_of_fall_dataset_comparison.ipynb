{
 "cells": [
  {
   "cell_type": "code",
   "execution_count": 1,
   "id": "9b647255",
   "metadata": {},
   "outputs": [],
   "source": [
    "import pandas as pd"
   ]
  },
  {
   "cell_type": "code",
   "execution_count": 6,
   "id": "eec70c11",
   "metadata": {},
   "outputs": [],
   "source": [
    "df_1 = pd.read_csv(\"data\\\\victims_of_fall_V1.csv\")\n",
    "df_2 = pd.read_excel(\"data\\\\PrecipitatiScore.xlsx\")"
   ]
  },
  {
   "cell_type": "code",
   "execution_count": 10,
   "id": "2d8bab0e",
   "metadata": {},
   "outputs": [
    {
     "data": {
      "text/plain": [
       "Index(['Casi', 'Sesso', 'Età', 'Altezza soggetto', 'Peso', 'BMI',\n",
       "       'Altezza di precipitazione (m)', 'mgh', 'TESTA', 'Neurocranio ',\n",
       "       'Splancnocranio ', 'Telencefalo ', 'Cervelletto ', 'Tronco Encefalico ',\n",
       "       'TORACE', 'Polmoni ', 'Trachea/bronchi ', 'Cuore ', 'Aorta T ',\n",
       "       'Diaframma ', 'ADDOME', 'Fegato ', 'Milza ', 'Aorta Add ', 'Reni ',\n",
       "       'Mesentere ', 'SCHELETRO', 'Rachide Cervicale ', 'Rachide Toracico ',\n",
       "       'Rachide Lombare ', 'Bacino ', 'Complesso S-C-C '],\n",
       "      dtype='object')"
      ]
     },
     "execution_count": 10,
     "metadata": {},
     "output_type": "execute_result"
    }
   ],
   "source": [
    "df_2[\"\"]"
   ]
  },
  {
   "cell_type": "code",
   "execution_count": 11,
   "id": "f14a593c",
   "metadata": {},
   "outputs": [
    {
     "data": {
      "text/plain": [
       "Index(['Unnamed: 0', 'Casi', 'Sesso', 'Età', 'Altezza soggetto', 'Peso', 'BMI',\n",
       "       'Altezza di precipitazione (m)', 'mgh', 'TESTA', 'Neurocranio ',\n",
       "       'Splancnocranio ', 'Telencefalo ', 'Cervelletto ', 'Tronco Encefalico ',\n",
       "       'TORACE', 'Polmoni ', 'Trachea/bronchi ', 'Cuore ', 'Aorta T ',\n",
       "       'Diaframma ', 'ADDOME', 'Fegato ', 'Milza ', 'Aorta Add ', 'Reni ',\n",
       "       'Mesentere ', 'SCHELETRO', 'Rachide Cervicale ', 'Rachide Toracico ',\n",
       "       'Rachide Lombare ', 'Bacino ', 'Complesso S-C-C '],\n",
       "      dtype='object')"
      ]
     },
     "execution_count": 11,
     "metadata": {},
     "output_type": "execute_result"
    }
   ],
   "source": [
    "df_1.columns"
   ]
  },
  {
   "cell_type": "code",
   "execution_count": null,
   "id": "50be821a",
   "metadata": {},
   "outputs": [],
   "source": []
  }
 ],
 "metadata": {
  "kernelspec": {
   "display_name": "Python 3",
   "language": "python",
   "name": "python3"
  },
  "language_info": {
   "codemirror_mode": {
    "name": "ipython",
    "version": 3
   },
   "file_extension": ".py",
   "mimetype": "text/x-python",
   "name": "python",
   "nbconvert_exporter": "python",
   "pygments_lexer": "ipython3",
   "version": "3.8.8"
  }
 },
 "nbformat": 4,
 "nbformat_minor": 5
}
